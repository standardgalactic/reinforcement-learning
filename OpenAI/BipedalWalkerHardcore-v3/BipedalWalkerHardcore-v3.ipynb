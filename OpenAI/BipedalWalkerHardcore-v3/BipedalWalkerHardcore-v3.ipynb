{
 "cells": [
  {
   "cell_type": "markdown",
   "metadata": {},
   "source": [
    "# BipedalWalkerHardcore-v3\n",
    "\n",
    "---\n",
    "In this notebook, you will implement a TD3 agent with OpenAI Gym's BipedalWalkerHardcore-v3 environment.\n"
   ]
  },
  {
   "cell_type": "markdown",
   "metadata": {},
   "source": [
    "#### 1. Import the Necessary Packages"
   ]
  },
  {
   "cell_type": "code",
   "execution_count": 1,
   "metadata": {},
   "outputs": [],
   "source": [
    "import torch\n",
    "import gym\n",
    "import numpy as np\n",
    "from collections import deque\n",
    "from collections import namedtuple\n",
    "import time\n",
    "from ReplayBuffer import ReplayBuffer\n",
    "from Agent import TD3\n",
    "from IPython import display\n",
    "import matplotlib\n",
    "import matplotlib.pyplot as plt\n",
    "%matplotlib inline"
   ]
  },
  {
   "cell_type": "markdown",
   "metadata": {},
   "source": [
    "#### 2. Instantiate the Environment\n",
    "Initialize the environment in the code cell below."
   ]
  },
  {
   "cell_type": "code",
   "execution_count": 2,
   "metadata": {},
   "outputs": [],
   "source": [
    "#env_name = 'BipedalWalkerHardcore-v3'\n",
    "env_name = 'BipedalWalker-v3'\n",
    "#env_name = 'Pendulum-v0'\n",
    "random_seed = 0\n",
    "save_every = 200            # safe trained models after interval\n",
    "print_every = 10\n",
    "score_to_solve = 300.0\n",
    "directory = \"./preTrained/\" # save trained models\n",
    "filename = \"TD3_{}_{}\".format(env_name, random_seed)\n",
    "continue_training = False\n",
    "\n",
    "max_episodes = 20000        # max num of episodes\n",
    "max_timesteps = 3000        # max timesteps in one episode"
   ]
  },
  {
   "cell_type": "code",
   "execution_count": 3,
   "metadata": {},
   "outputs": [
    {
     "name": "stderr",
     "output_type": "stream",
     "text": [
      "c:\\users\\tobias\\.conda\\envs\\pytorch\\lib\\site-packages\\gym\\logger.py:30: UserWarning: \u001b[33mWARN: Box bound precision lowered by casting to float32\u001b[0m\n",
      "  warnings.warn(colorize('%s: %s'%('WARN', msg % args), 'yellow'))\n"
     ]
    }
   ],
   "source": [
    "env = gym.make(env_name)\n",
    "\n",
    "env.seed(random_seed)\n",
    "torch.manual_seed(random_seed)\n",
    "np.random.seed(random_seed)"
   ]
  },
  {
   "cell_type": "markdown",
   "metadata": {},
   "source": [
    "#### 3. Train the Agent with TD3\n",
    "Run the code cell below to train the agent from scratch. You are welcome to amend the supplied values of the parameters in the function, to try to see if you can get better performance!"
   ]
  },
  {
   "cell_type": "code",
   "execution_count": 4,
   "metadata": {
    "scrolled": false
   },
   "outputs": [
    {
     "name": "stdout",
     "output_type": "stream",
     "text": [
      "Episode 10, Average Score: -115.78, Max: -103.81, Min: -174.11, Time: 1.07\n",
      "Episode 20, Average Score: -118.77, Max: -106.60, Min: -133.98, Time: 0.76\n",
      "Episode 30, Average Score: -110.74, Max: -96.53, Min: -121.43, Time: 1.73\n",
      "Episode 40, Average Score: -108.85, Max: -97.48, Min: -118.47, Time: 1.46\n",
      "Episode 50, Average Score: -114.18, Max: -73.15, Min: -157.10, Time: 0.56\n",
      "Episode 60, Average Score: -111.30, Max: -106.02, Min: -116.47, Time: 1.48\n",
      "Episode 70, Average Score: -106.74, Max: -93.91, Min: -115.51, Time: 1.02\n",
      "Episode 80, Average Score: -100.63, Max: -93.01, Min: -119.99, Time: 1.01\n",
      "Episode 90, Average Score: -110.36, Max: -94.56, Min: -130.73, Time: 0.88\n",
      "Episode 100, Average Score: -106.17, Max: -98.54, Min: -122.22, Time: 1.17\n",
      "Episode 110, Average Score: -113.64, Max: -90.59, Min: -159.96, Time: 0.97\n",
      "Episode 120, Average Score: -108.88, Max: -65.81, Min: -135.83, Time: 0.50\n",
      "Episode 130, Average Score: -122.55, Max: -54.56, Min: -222.96, Time: 15.64\n",
      "Episode 140, Average Score: -100.95, Max: -93.29, Min: -115.16, Time: 3.37\n",
      "Episode 150, Average Score: -101.02, Max: -37.50, Min: -136.51, Time: 18.44\n",
      "Episode 160, Average Score: -64.80, Max: 134.02, Min: -170.05, Time: 17.84\n",
      "Episode 170, Average Score: -59.99, Max: 63.89, Min: -95.63, Time: 1.37\n",
      "Episode 180, Average Score: 10.10, Max: 250.63, Min: -98.02, Time: 18.04\n",
      "Episode 190, Average Score: 61.42, Max: 219.78, Min: -100.52, Time: 20.38\n",
      "Episode 200, Average Score: 211.76, Max: 259.83, Min: -47.54, Time: 16.78\n",
      "Episode 210, Average Score: 147.69, Max: 267.70, Min: -70.38, Time: 14.41\n",
      "Episode 220, Average Score: 198.08, Max: 269.30, Min: -66.29, Time: 12.78\n",
      "Episode 230, Average Score: 188.38, Max: 264.07, Min: -26.26, Time: 14.58\n",
      "Episode 240, Average Score: 248.06, Max: 269.04, Min: 151.95, Time: 13.72\n",
      "Episode 250, Average Score: 100.32, Max: 263.70, Min: -104.08, Time: 4.33\n",
      "Episode 260, Average Score: 161.03, Max: 277.05, Min: -138.29, Time: 12.46\n",
      "Episode 270, Average Score: -73.71, Max: 252.02, Min: -149.67, Time: 17.64\n",
      "Episode 280, Average Score: 181.18, Max: 281.09, Min: -82.83, Time: 11.43\n",
      "Episode 290, Average Score: 247.16, Max: 282.37, Min: -20.48, Time: 11.53\n",
      "Episode 300, Average Score: 243.66, Max: 285.61, Min: -42.06, Time: 11.19\n",
      "Episode 310, Average Score: 277.55, Max: 280.14, Min: 270.28, Time: 11.38\n",
      "Episode 320, Average Score: 281.18, Max: 286.98, Min: 275.22, Time: 10.92\n",
      "Episode 330, Average Score: 247.80, Max: 286.97, Min: -68.20, Time: 12.21\n",
      "Episode 340, Average Score: 225.15, Max: 287.96, Min: -47.53, Time: 10.94\n",
      "Episode 350, Average Score: 283.83, Max: 288.36, Min: 274.93, Time: 10.34\n",
      "Episode 360, Average Score: 283.28, Max: 288.69, Min: 277.96, Time: 10.36\n",
      "Episode 370, Average Score: 286.48, Max: 293.93, Min: 276.04, Time: 11.30\n",
      "Episode 380, Average Score: 285.47, Max: 289.15, Min: 278.05, Time: 11.13\n",
      "Episode 390, Average Score: 294.02, Max: 298.95, Min: 285.76, Time: 10.33\n",
      "Episode 400, Average Score: 292.98, Max: 299.27, Min: 284.85, Time: 10.10\n",
      "Episode 410, Average Score: 291.32, Max: 296.69, Min: 283.13, Time: 10.89\n",
      "Episode 420, Average Score: 288.89, Max: 299.84, Min: 282.88, Time: 10.49\n",
      "Episode 430, Average Score: 291.47, Max: 299.53, Min: 288.22, Time: 10.12\n",
      "Episode 440, Average Score: 290.53, Max: 297.38, Min: 286.29, Time: 10.89\n",
      "Episode 450, Average Score: 290.85, Max: 298.56, Min: 280.41, Time: 10.28\n",
      "Episode 460, Average Score: 292.21, Max: 298.24, Min: 284.62, Time: 10.06\n",
      "Episode 470, Average Score: 291.61, Max: 296.71, Min: 280.30, Time: 12.89\n",
      "Episode 480, Average Score: 288.13, Max: 295.01, Min: 281.58, Time: 10.67\n",
      "Episode 490, Average Score: 295.88, Max: 300.70, Min: 292.55, Time: 9.92\n",
      "Episode 500, Average Score: 296.55, Max: 299.96, Min: 293.09, Time: 9.89\n",
      "Episode 510, Average Score: 294.28, Max: 299.68, Min: 289.46, Time: 9.85\n",
      "Episode 520, Average Score: 298.87, Max: 307.00, Min: 289.35, Time: 9.78\n",
      "Episode 530, Average Score: 267.80, Max: 304.77, Min: -30.08, Time: 9.93\n",
      "Episode 540, Average Score: 296.83, Max: 304.53, Min: 289.83, Time: 10.90\n",
      "Episode 550, Average Score: 298.76, Max: 302.93, Min: 288.20, Time: 10.85\n",
      "Episode 560, Average Score: 300.34, Max: 302.60, Min: 298.35, Time: 9.32\n",
      "Episode 570, Average Score: 297.58, Max: 305.82, Min: 293.56, Time: 9.43\n",
      "Episode 580, Average Score: 269.15, Max: 303.09, Min: 3.75, Time: 9.49\n",
      "Episode 590, Average Score: 301.74, Max: 304.92, Min: 296.12, Time: 9.61\n",
      "Episode 600, Average Score: 302.11, Max: 306.81, Min: 292.31, Time: 9.36\n",
      "Episode 610, Average Score: 302.11, Max: 311.98, Min: 290.79, Time: 9.45\n",
      "Episode 620, Average Score: 303.07, Max: 307.04, Min: 296.97, Time: 10.51\n",
      "Episode 630, Average Score: 294.81, Max: 303.67, Min: 280.19, Time: 9.74\n",
      "Episode 640, Average Score: 301.00, Max: 306.09, Min: 295.37, Time: 8.90\n",
      "Episode 650, Average Score: 301.64, Max: 308.74, Min: 296.02, Time: 9.80\n",
      "Episode 660, Average Score: 301.62, Max: 305.35, Min: 297.01, Time: 9.27\n",
      "Episode 670, Average Score: 298.90, Max: 304.49, Min: 291.47, Time: 9.74\n",
      "\n",
      "Environment solved in 678 episodes!\tAverage Score: 238.68\n"
     ]
    },
    {
     "data": {
      "image/png": "[encoded data removed]",
      "text/plain": [
       "<Figure size 432x288 with 1 Axes>"
      ]
     },
     "metadata": {
      "needs_background": "light"
     },
     "output_type": "display_data"
    }
   ],
   "source": [
    "def train():\n",
    "    policy = TD3(env)\n",
    "    \n",
    "    if continue_training:        \n",
    "        #policy.load(directory, \"TD3_BipedalWalker-v3_0_solved\")\n",
    "        policy.load(directory, filename)\n",
    "\n",
    "    replay_buffer = ReplayBuffer()\n",
    "    \n",
    "    scores = []\n",
    "    avg_reward = 0    \n",
    "    episode_rewards = []\n",
    "    \n",
    "    ep_rewards_deque = deque(maxlen=100)\n",
    "\n",
    "    for i_episode in range(1, max_episodes+1):\n",
    "        state = env.reset()\n",
    "        \n",
    "        ep_reward = 0\n",
    "        \n",
    "        timestep = time.time()\n",
    "        \n",
    "        for t in range(max_timesteps):\n",
    "            # select action and add exploration noise:\n",
    "            action = policy.select_action(state)\n",
    "            \n",
    "            # take action in env:\n",
    "            next_state, reward, done, _ = env.step(action)\n",
    "            \n",
    "            replay_buffer.add((state, action, reward, next_state, float(done)))\n",
    "            \n",
    "            avg_reward += reward                       \n",
    "            ep_reward += reward\n",
    "            state = next_state\n",
    "\n",
    "            # if i_episode is done then update policy:            \n",
    "            if (done or t==(max_timesteps-1)):\n",
    "                policy.update(replay_buffer, t)\n",
    "                break           \n",
    "                \n",
    "        episode_rewards.append(ep_reward)\n",
    "        ep_rewards_deque.append(ep_reward)        \n",
    "        avg_rewards = (avg_reward / print_every)\n",
    "        \n",
    "        if np.mean(ep_rewards_deque) >= score_to_solve:\n",
    "            print('\\nEnvironment solved in {:d} episodes!\\tAverage Score: {:.2f}'.format(i_episode, avg_rewards))\n",
    "            policy.save(directory, filename + '_solved')\n",
    "            break        \n",
    "        \n",
    "        if i_episode % print_every == 0:\n",
    "            min_rewards = np.min(episode_rewards)\n",
    "            max_rewards = np.max(episode_rewards)            \n",
    "            print('\\rEpisode {}, Average Score: {:.2f}, Max: {:.2f}, Min: {:.2f}, Time: {:.2f}'\\\n",
    "                  .format(i_episode, avg_rewards, max_rewards, min_rewards, time.time() - timestep), end=\"\\n\")\n",
    "            \n",
    "            avg_reward = 0\n",
    "            episode_rewards = []\n",
    "            \n",
    "        if i_episode % save_every == 0:\n",
    "            policy.save(directory, filename)\n",
    "        \n",
    "        scores.append(ep_reward)\n",
    "            \n",
    "    return scores\n",
    "\n",
    "\n",
    "scores = train()\n",
    "\n",
    "fig = plt.figure()\n",
    "ax = fig.add_subplot(111)\n",
    "plt.plot(np.arange(1, len(scores)+1), scores)\n",
    "plt.ylabel('Score')\n",
    "plt.xlabel('Episode #')\n",
    "plt.show()"
   ]
  },
  {
   "cell_type": "markdown",
   "metadata": {},
   "source": [
    "#### 4. Watch a Smart Agent!\n",
    "In the next code cell, you will load the trained weights from file to watch a smart agent!"
   ]
  },
  {
   "cell_type": "code",
   "execution_count": 6,
   "metadata": {},
   "outputs": [],
   "source": [
    "def test(preTrained=True, max_timesteps=1500):        \n",
    "    n_episodes = 2    \n",
    "    \n",
    "    env = gym.make(env_name)\n",
    "  \n",
    "    env.seed(random_seed)\n",
    "    \n",
    "    if preTrained:\n",
    "        filename = \"TD3_{}_{}\".format(env_name, random_seed)\n",
    "        #filename += '_solved'    \n",
    "        directory = \"./preTrained/\"\n",
    "        policy = TD3(env)    \n",
    "        policy.load_actor(directory, filename)    \n",
    "        \n",
    "    for ep in range(1, n_episodes+1):\n",
    "        state = env.reset()\n",
    "        for t in range(max_timesteps):\n",
    "            if preTrained:\n",
    "                action = policy.select_action(state)\n",
    "            else:\n",
    "                action = env.action_space.sample()\n",
    "            state, reward, done, _ = env.step(action)\n",
    "            env.render()            \n",
    "            if done:\n",
    "                break\n",
    "            \n",
    "    env.close()\n",
    "        \n",
    "test()    "
   ]
  },
  {
   "cell_type": "raw",
   "metadata": {},
   "source": []
  }
 ],
 "metadata": {
  "kernelspec": {
   "display_name": "Python 3",
   "language": "python",
   "name": "python3"
  },
  "language_info": {
   "codemirror_mode": {
    "name": "ipython",
    "version": 3
   },
   "file_extension": ".py",
   "mimetype": "text/x-python",
   "name": "python",
   "nbconvert_exporter": "python",
   "pygments_lexer": "ipython3",
   "version": "3.8.5"
  }
 },
 "nbformat": 4,
 "nbformat_minor": 2
}
