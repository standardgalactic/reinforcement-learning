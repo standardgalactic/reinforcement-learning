{
 "cells": [
  {
   "cell_type": "code",
   "execution_count": 1,
   "metadata": {},
   "outputs": [
    {
     "name": "stderr",
     "output_type": "stream",
     "text": [
      "Using TensorFlow backend.\n"
     ]
    }
   ],
   "source": [
    "import gym\n",
    "import sys\n",
    "import numpy as np\n",
    "import random as rn\n",
    "import cv2\n",
    "import time\n",
    "import functools\n",
    "import datetime\n",
    "import tensorflow as tf\n",
    "from agents.DDQN import *\n",
    "from IPython import display\n",
    "import matplotlib\n",
    "import matplotlib.pyplot as plt\n",
    "from matplotlib import gridspec\n",
    "%matplotlib inline\n",
    "\n",
    "np.set_printoptions(threshold=sys.maxsize)"
   ]
  },
  {
   "cell_type": "markdown",
   "metadata": {},
   "source": [
    "#### Set seed"
   ]
  },
  {
   "cell_type": "code",
   "execution_count": 2,
   "metadata": {},
   "outputs": [],
   "source": [
    "SEED = 789325\n",
    "\n",
    "rn.seed(SEED)\n",
    "np.random.seed(SEED)\n",
    "tf.random.set_seed(SEED)"
   ]
  },
  {
   "cell_type": "markdown",
   "metadata": {},
   "source": [
    "#### Environment"
   ]
  },
  {
   "cell_type": "code",
   "execution_count": 3,
   "metadata": {},
   "outputs": [],
   "source": [
    "def build_environment(envName=\"CartPole-v0\", seed=None):\n",
    "    env = gym.make(envName)        \n",
    "    if seed is not None:\n",
    "        env.seed(seed)    \n",
    "    \n",
    "    return env"
   ]
  },
  {
   "cell_type": "markdown",
   "metadata": {},
   "source": [
    "#### Show Environment information"
   ]
  },
  {
   "cell_type": "code",
   "execution_count": 4,
   "metadata": {
    "scrolled": true
   },
   "outputs": [
    {
     "name": "stdout",
     "output_type": "stream",
     "text": [
      "Actions:  2\n",
      "Size of state: 4\n"
     ]
    }
   ],
   "source": [
    "env = build_environment(seed=SEED)\n",
    "\n",
    "# size of each action\n",
    "action_size = env.action_space.n\n",
    "print('Actions: ', action_size)\n",
    "if hasattr(env.env, 'get_action_meanings'):\n",
    "    print(env.env.get_action_meanings())\n",
    "\n",
    "# examine the state space \n",
    "states = env.observation_space.shape\n",
    "state_size = states[0]\n",
    "print('Size of state:', state_size)\n",
    "\n",
    "env.close()"
   ]
  },
  {
   "cell_type": "markdown",
   "metadata": {},
   "source": [
    "# Training"
   ]
  },
  {
   "cell_type": "code",
   "execution_count": 5,
   "metadata": {},
   "outputs": [],
   "source": [
    "def build_agent(pre_trained=None):\n",
    "    return DDQNAgent(state_size,\n",
    "                     action_size,\n",
    "                     buffer_size=2000,\n",
    "                     epsilon_start=0.5,\n",
    "                     epsilon_steps_to_min=3500,\n",
    "                     mode=\"DuelingDQN\",\n",
    "                     use_PER=True,\n",
    "                     pre_trained=pre_trained)"
   ]
  },
  {
   "cell_type": "code",
   "execution_count": 6,
   "metadata": {},
   "outputs": [],
   "source": [
    "logdir = \"logs/\" + time.strftime(\"%Y%m%d_%H%M%S\")\n",
    "writer = tf.summary.create_file_writer(logdir)"
   ]
  },
  {
   "cell_type": "code",
   "execution_count": 7,
   "metadata": {},
   "outputs": [],
   "source": [
    "SAVE_EVERY_EPISODES = 100\n",
    "LEARNING_START_AFTER_STEPS = 500\n",
    "EPISODES = 80\n",
    "SCORE_TO_SOLVE = 195.0\n",
    "\n",
    "UPDATE_MODE = 'soft'\n",
    "UPDATE_TARGET_FREQUENCY = 10"
   ]
  },
  {
   "cell_type": "code",
   "execution_count": 8,
   "metadata": {},
   "outputs": [
    {
     "name": "stdout",
     "output_type": "stream",
     "text": [
      "Training started: 2019-12-29 13:29:18.235840\n",
      "Episode 1: Step 15 reward 15.0: \n",
      "Save model...\n",
      "Episode 5: Step 80 reward 30.0: \n",
      "Save model...\n",
      "Episode 6: Step 123 reward 43.0: \n",
      "Save model...\n",
      "Episode 7: Step 180 reward 57.0: \n",
      "Save model...\n"
     ]
    },
    {
     "name": "stderr",
     "output_type": "stream",
     "text": [
      "D:\\Deep Learning\\Reinforcement-Learning\\OpenAI\\CartPole-v0\\memory.py:47: RuntimeWarning: divide by zero encountered in double_scalars\n",
      "  max_weight = (p_min * n) ** (-self.PER_b)\n",
      "D:\\Deep Learning\\Reinforcement-Learning\\OpenAI\\CartPole-v0\\memory.py:47: RuntimeWarning: divide by zero encountered in double_scalars\n",
      "  max_weight = (p_min * n) ** (-self.PER_b)\n"
     ]
    },
    {
     "name": "stdout",
     "output_type": "stream",
     "text": [
      "Episode 46: Step 860 reward 58.0: \n",
      "Save model...\n",
      "Episode 47: Step 947 reward 87.0: \n",
      "Save model...\n",
      "Episode 61: Step 1757 reward 92.0: \n",
      "Save model...\n",
      "Episode 65: Step 2039 reward 105.0: \n",
      "Save model...\n",
      "Episode 67: Step 2269 reward 133.0: \n",
      "Save model...\n",
      "Episode 68: Step 2469 reward 200.0: \n",
      "Save model...\n",
      "Save model...\n",
      "Training finished\n"
     ]
    }
   ],
   "source": [
    "def train():\n",
    "    env = build_environment(seed=SEED)\n",
    "    agent = build_agent()\n",
    "    \n",
    "    max_reward = -9999999    \n",
    "    game_rewards_deque = deque(maxlen=100)    \n",
    "    frame_count = 0\n",
    "    \n",
    "    print(\"Training started: \" + str(datetime.datetime.now()))\n",
    "    \n",
    "    frame_count = 0\n",
    "    \n",
    "    for i_episode in range(1, EPISODES+1):\n",
    "        state = env.reset()\n",
    "            \n",
    "        game_reward = 0\n",
    "        steps = 0\n",
    "        \n",
    "        while True:\n",
    "            frame_count += 1\n",
    "            steps += 1\n",
    "            \n",
    "            state = agent.preprocess(state)                \n",
    "            action = agent.act(state)            \n",
    "            \n",
    "            next_state, reward, done, info = env.step(action)              \n",
    "            game_reward += reward\n",
    "        \n",
    "            agent.remember(state[0], action, reward, next_state, done)\n",
    "            \n",
    "            state = next_state\n",
    "            \n",
    "            if frame_count % 10000 == 0:\n",
    "                print(\"Step count: {}\".format(frame_count))\n",
    "            \n",
    "            if done:\n",
    "                break            \n",
    "            \n",
    "            if frame_count > LEARNING_START_AFTER_STEPS:                \n",
    "                agent.train()\n",
    "                if UPDATE_MODE == \"soft\":\n",
    "                    agent.soft_update_target_network()\n",
    "                \n",
    "            \n",
    "            if UPDATE_MODE == \"hard\" and frame_count % UPDATE_TARGET_FREQUENCY == 0:\n",
    "                agent.hard_update_target_network()\n",
    "    \n",
    "        # Log episode reward\n",
    "        with writer.as_default():\n",
    "            tf.summary.scalar(\"epsilon\", agent.epsilon, step=i_episode)\n",
    "            tf.summary.scalar(\"game_reward\", game_reward, step=i_episode)        \n",
    "            \n",
    "        if i_episode % SAVE_EVERY_EPISODES == 0:\n",
    "            print(\"Save after {} episodes.\".format(i_episode))\n",
    "            agent.save()             \n",
    "        \n",
    "        game_rewards_deque.append(game_reward)\n",
    "        \n",
    "        if game_reward > max_reward:\n",
    "            print(\"Episode {}: Step {} reward {}: \".format(i_episode, frame_count, game_reward))\n",
    "            max_reward = game_reward\n",
    "            agent.save()        \n",
    "        \n",
    "        if np.mean(game_rewards_deque) >= SCORE_TO_SOLVE:\n",
    "            agent.save()\n",
    "            print(\"Solved in Episode {} Step {} reward {}: \".format(i_episode, frame_count, game_reward))\n",
    "            break      \n",
    "    \n",
    "    env.close()\n",
    "    agent.save()\n",
    "   \n",
    "train()\n",
    "print(\"Training finished\")"
   ]
  },
  {
   "cell_type": "markdown",
   "metadata": {},
   "source": [
    "# Show Result"
   ]
  },
  {
   "cell_type": "code",
   "execution_count": 9,
   "metadata": {},
   "outputs": [
    {
     "name": "stdout",
     "output_type": "stream",
     "text": [
      "Episode finished with score: 161.0\n"
     ]
    },
    {
     "data": {
      "image/png": "[encoded data removed]",
      "text/plain": [
       "<Figure size 432x288 with 1 Axes>"
      ]
     },
     "metadata": {
      "needs_background": "light"
     },
     "output_type": "display_data"
    }
   ],
   "source": [
    "env = build_environment(seed=SEED)\n",
    "agent = build_agent(pre_trained='model.h5')\n",
    "\n",
    "state = env.reset()\n",
    "final_reward = 0\n",
    "\n",
    "img = plt.imshow(env.render(mode='rgb_array'))\n",
    "while True:\n",
    "    img.set_data(env.render(mode='rgb_array'))\n",
    "    display.display(plt.gcf())\n",
    "    display.clear_output(wait=True)\n",
    "\n",
    "    state = np.reshape(state, [1, state_size])\n",
    "    action = agent.act(state)    \n",
    "    next_state, reward, done, info = env.step(action)\n",
    "    final_reward += reward \n",
    "    \n",
    "    state = next_state\n",
    "    \n",
    "    if done:\n",
    "        print(\"Episode finished with score: {}\".format(final_reward))\n",
    "        break\n",
    "env.close()        "
   ]
  },
  {
   "cell_type": "code",
   "execution_count": null,
   "metadata": {},
   "outputs": [],
   "source": []
  }
 ],
 "metadata": {
  "kernelspec": {
   "display_name": "Python 3",
   "language": "python",
   "name": "python3"
  },
  "language_info": {
   "codemirror_mode": {
    "name": "ipython",
    "version": 3
   },
   "file_extension": ".py",
   "mimetype": "text/x-python",
   "name": "python",
   "nbconvert_exporter": "python",
   "pygments_lexer": "ipython3",
   "version": "3.6.9"
  }
 },
 "nbformat": 4,
 "nbformat_minor": 2
}